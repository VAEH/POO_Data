{
 "cells": [
  {
   "cell_type": "markdown",
   "metadata": {},
   "source": [
    "#  Creando y utilizando clases en python\n",
    "\n",
    "Ejercicio: \n",
    "Modelar una cantidad de dinero. Por ejemplo, se debe representar como:\n",
    "- Un peso ($1)\n",
    "- Un dolar (u$s 1)\n",
    "- Un Euro (€ 1)\n",
    "- Dos Pesos ($ 2)\n",
    "- Cinco Dólares (U$S 5)"
   ]
  },
  {
   "cell_type": "code",
   "execution_count": 44,
   "metadata": {},
   "outputs": [
    {
     "data": {
      "text/plain": [
       "USD 1"
      ]
     },
     "execution_count": 44,
     "metadata": {},
     "output_type": "execute_result"
    }
   ],
   "source": [
    "#Implementación POO para el ejercicio anterior (No se que estoy haciendo :D)\n",
    "\n",
    "\n",
    "class Divisa():\n",
    "    \"\"\"Representa el nombre y sibolo de la Divisa\"\"\"\n",
    "    def __init__(self, name, simbolo):\n",
    "        self.name = name\n",
    "        self.simbolo = simbolo\n",
    "    \n",
    "    def __repr__(self):\n",
    "        return self.name\n",
    "\n",
    "class Dinero():\n",
    "    \"\"\"Represennta la cantidad de dinero \"\"\"\n",
    "    def __init__(self, monto,divisa):\n",
    "        self.monto = monto\n",
    "        self.divisa =divisa\n",
    "    \n",
    "    def __repr__(self) :\n",
    "        return '{} {}'.format(self.divisa.simbolo, self.monto)\n",
    "\n",
    "    \n",
    "dolar = Divisa('dolar', 'USD')\n",
    "pesos = Divisa('pesos', '$')\n",
    "\n",
    "one_dolar = Dinero(1,dolar)\n",
    "one_dolar"
   ]
  },
  {
   "cell_type": "code",
   "execution_count": 16,
   "metadata": {},
   "outputs": [
    {
     "ename": "TypeError",
     "evalue": "unsupported operand type(s) for +: 'Dinero' and 'Dinero'",
     "output_type": "error",
     "traceback": [
      "\u001b[1;31m---------------------------------------------------------------------------\u001b[0m",
      "\u001b[1;31mTypeError\u001b[0m                                 Traceback (most recent call last)",
      "\u001b[1;32m<ipython-input-16-6f9fc120ffb3>\u001b[0m in \u001b[0;36m<module>\u001b[1;34m\u001b[0m\n\u001b[0;32m     42\u001b[0m \u001b[1;33m\u001b[0m\u001b[0m\n\u001b[0;32m     43\u001b[0m \u001b[0mone_dolar\u001b[0m \u001b[1;33m=\u001b[0m \u001b[0mDinero\u001b[0m\u001b[1;33m(\u001b[0m\u001b[1;36m1\u001b[0m\u001b[1;33m,\u001b[0m\u001b[0mdolar\u001b[0m\u001b[1;33m)\u001b[0m\u001b[1;33m\u001b[0m\u001b[1;33m\u001b[0m\u001b[0m\n\u001b[1;32m---> 44\u001b[1;33m \u001b[0ma\u001b[0m \u001b[1;33m=\u001b[0m \u001b[0mone_dolar\u001b[0m \u001b[1;33m+\u001b[0m \u001b[0mone_dolar\u001b[0m\u001b[1;33m\u001b[0m\u001b[1;33m\u001b[0m\u001b[0m\n\u001b[0m\u001b[0;32m     45\u001b[0m \u001b[0mprint\u001b[0m\u001b[1;33m(\u001b[0m\u001b[0ma\u001b[0m\u001b[1;33m)\u001b[0m\u001b[1;33m\u001b[0m\u001b[1;33m\u001b[0m\u001b[0m\n",
      "\u001b[1;31mTypeError\u001b[0m: unsupported operand type(s) for +: 'Dinero' and 'Dinero'"
     ]
    }
   ],
   "source": [
    "\"\"\" Hay dos formas para la conversión de Divisas\n",
    "1. Es ver cuánto tenemos en cántidad respecto de la Moneda1 a las Moneda2 sería con una múltiplicación\n",
    "2.Pero si queremos convertir el monto de la Moneda2 a la Moneda1 sería con una división\n",
    "\n",
    "\"\"\"\n",
    "class Divisa():\n",
    "    \"\"\"Representa el nombre y sibolo de la Divisa\"\"\"\n",
    "    def __init__(self, name, simbolo, factor):\n",
    "        self.name = name\n",
    "        self.simbolo = simbolo\n",
    "        self.factor = factor\n",
    "\n",
    "    def convertir_a_base_divisa(self,numero):\n",
    "        return numero * self.factor\n",
    "    \n",
    "    def convertir_desde_base_divisa(self, numero):\n",
    "        return numero / self.factor\n",
    "\n",
    "    def __repr__(self):\n",
    "        return self.name\n",
    "\n",
    "class Dinero():\n",
    "    \"\"\"Represennta la cantidad de dinero \"\"\"\n",
    "    def __init__(self, monto,divisa):\n",
    "        self.monto = monto\n",
    "        self.divisa =divisa\n",
    "\n",
    "    def monto_base_divisas(self):\n",
    "        return self.divisa.convertir_a_base_divisa(self.monto)\n",
    "    \n",
    "    def _add_ (self, montoDeDinero): \n",
    "        amount = self.monto_base_divisas() + montoDeDinero.monto_base_divisas()\n",
    "        amount = self.divisa.convertir_desde_base_divisa(amount)\n",
    "        return Dinero(amount, self.currency) \n",
    "    \n",
    "    def __sub__(self, montoDeDinero):\n",
    "        amount = self.monto_base_divisas() - montoDeDinero.monto_base_divisas()\n",
    "        amount = self.divisa.convertir_desde_base_divisa(amount)\n",
    "        return Dinero(amount, self.currency)\n",
    "\n",
    "dolar = Divisa('dolar', 'USD', 3250)\n",
    "\n",
    "one_dolar = Dinero(1,dolar)\n",
    "a = one_dolar + one_dolar\n",
    "print(a)\n"
   ]
  },
  {
   "cell_type": "code",
   "execution_count": 10,
   "metadata": {},
   "outputs": [
    {
     "data": {
      "text/plain": [
       "10"
      ]
     },
     "execution_count": 10,
     "metadata": {},
     "output_type": "execute_result"
    }
   ],
   "source": [
    "number=5\n",
    "\n",
    "def holi(number):\n",
    "    return number*5\n",
    "holi(2)"
   ]
  },
  {
   "cell_type": "code",
   "execution_count": 9,
   "metadata": {},
   "outputs": [
    {
     "ename": "TypeError",
     "evalue": "__str__() missing 1 required positional argument: 'valor'",
     "output_type": "error",
     "traceback": [
      "\u001b[1;31m---------------------------------------------------------------------------\u001b[0m",
      "\u001b[1;31mTypeError\u001b[0m                                 Traceback (most recent call last)",
      "\u001b[1;32m<ipython-input-9-9097a67d36e3>\u001b[0m in \u001b[0;36m<module>\u001b[1;34m\u001b[0m\n\u001b[0;32m     10\u001b[0m \u001b[0mclase\u001b[0m \u001b[1;33m=\u001b[0m \u001b[0mClase\u001b[0m\u001b[1;33m(\u001b[0m\u001b[1;34m'uno'\u001b[0m\u001b[1;33m)\u001b[0m\u001b[1;33m\u001b[0m\u001b[1;33m\u001b[0m\u001b[0m\n\u001b[0;32m     11\u001b[0m \u001b[1;33m\u001b[0m\u001b[0m\n\u001b[1;32m---> 12\u001b[1;33m \u001b[0mprint\u001b[0m\u001b[1;33m(\u001b[0m\u001b[0mclase\u001b[0m\u001b[1;33m)\u001b[0m\u001b[1;33m\u001b[0m\u001b[1;33m\u001b[0m\u001b[0m\n\u001b[0m\u001b[0;32m     13\u001b[0m \u001b[1;31m#repr(clase)\u001b[0m\u001b[1;33m\u001b[0m\u001b[1;33m\u001b[0m\u001b[1;33m\u001b[0m\u001b[0m\n",
      "\u001b[1;31mTypeError\u001b[0m: __str__() missing 1 required positional argument: 'valor'"
     ]
    }
   ],
   "source": [
    "#Esto es una prueba para revisar las diferencias entres str y repr en python \n",
    "\n",
    "class Symbolos(object): \n"
   ]
  }
 ],
 "metadata": {
  "interpreter": {
   "hash": "f686fdc118ffc4aa3cfc49dea14bffa512884a21c608738156b0199a3b72a68c"
  },
  "kernelspec": {
   "display_name": "Python 3.8.8 64-bit ('base': conda)",
   "language": "python",
   "name": "python3"
  },
  "language_info": {
   "codemirror_mode": {
    "name": "ipython",
    "version": 3
   },
   "file_extension": ".py",
   "mimetype": "text/x-python",
   "name": "python",
   "nbconvert_exporter": "python",
   "pygments_lexer": "ipython3",
   "version": "3.8.8"
  },
  "orig_nbformat": 4
 },
 "nbformat": 4,
 "nbformat_minor": 2
}
