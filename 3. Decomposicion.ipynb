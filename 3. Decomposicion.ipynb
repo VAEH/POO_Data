{
 "cells": [
  {
   "cell_type": "markdown",
   "metadata": {},
   "source": [
    "# Decomposición\n",
    "\n",
    "- Partir un problema en problemas más pequeños. (Una computadora la podemos decomponer por teclado, pantalla, etc)\n",
    "- Las clases érmiten crear mayores abstracciones en forma de componentes. (Permite agarrar un gran problema y generar muchas clases más pequeñas que nos permitiran resolver nuestro problema en conjunto).\n",
    "- Cada clase se encaga de una parte del problema y el programa se vuelve más fácil de mantener. \n"
   ]
  },
  {
   "cell_type": "markdown",
   "metadata": {},
   "source": [
    "## Ejemplo"
   ]
  },
  {
   "cell_type": "code",
   "execution_count": 1,
   "metadata": {},
   "outputs": [
    {
     "name": "stdout",
     "output_type": "stream",
     "text": [
      "None\n"
     ]
    }
   ],
   "source": [
    "#Automovíl\n",
    "class Automovil:\n",
    "\n",
    "    def __init__(self, modelo, marca, color):\n",
    "        self.modelo = modelo\n",
    "        self.marca = marca\n",
    "        self.color = color\n",
    "        #Asignamos una variable privada\n",
    "        self._estado = 'en_reposo'\n",
    "        self._motor = Motor(cilindros=4)\n",
    "\n",
    "    #Función que permitira acelerar el coche\n",
    "    def acelerar(self, tipo='despacio'):\n",
    "        if tipo=='rapida':\n",
    "            self._motor.inyecta_gasolina(10)\n",
    "        else:\n",
    "            self._motor.inyecta_gasolina(3)\n",
    "\n",
    "        self._estado = 'Movimiento'\n",
    "        #return self._motor\n",
    "\n",
    "    #Método para frenar \n",
    "    def frenar (self):\n",
    "        self._motor.inyecta_gasolina(0)\n",
    "        self._estado ='en_reposo'\n",
    "\n",
    "\n",
    "class Motor:\n",
    "    #tipo='gasolina' es un default keyword, es un nuevo parametro por defecto, estamos diciendo que su tipo es de gasolina\n",
    "    def __init__(self, cilindros, tipo='gasolina') :\n",
    "        self.cilindros = cilindros\n",
    "        self.tipo = tipo\n",
    "        self._temperatura = 0\n",
    "\n",
    "    def inyecta_gasolina(self, cantidad):\n",
    "        pass\n",
    "\n",
    "#No entiendo como llamar los métodos, debo repasar este tema de nuevo\n",
    "if __name__ =='__main__':\n",
    "    auto = Automovil('Bonito', 'Todo_cache', 'Amarillo')\n",
    "    print(auto.acelerar('rapido'))\n",
    "    # print(auto.cantidad)"
   ]
  }
 ],
 "metadata": {
  "interpreter": {
   "hash": "f686fdc118ffc4aa3cfc49dea14bffa512884a21c608738156b0199a3b72a68c"
  },
  "kernelspec": {
   "display_name": "Python 3.8.8 64-bit ('base': conda)",
   "name": "python3"
  },
  "language_info": {
   "codemirror_mode": {
    "name": "ipython",
    "version": 3
   },
   "file_extension": ".py",
   "mimetype": "text/x-python",
   "name": "python",
   "nbconvert_exporter": "python",
   "pygments_lexer": "ipython3",
   "version": "3.8.8"
  },
  "orig_nbformat": 4
 },
 "nbformat": 4,
 "nbformat_minor": 2
}
