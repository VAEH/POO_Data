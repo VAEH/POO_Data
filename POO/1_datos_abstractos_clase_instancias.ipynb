{
 "cells": [
  {
   "cell_type": "markdown",
   "metadata": {},
   "source": [
    "# Tipos de datos abstractos y clases, Instancias"
   ]
  },
  {
   "cell_type": "markdown",
   "metadata": {},
   "source": [
    "- En python todo es un objeto y tiene un tipo.\n",
    "    - Representación de datos y formas de interactuar con ellos. \n",
    "  \n",
    "\n",
    "- Formas de interacturar con un objeto:\n",
    "  - Creación\n",
    "  - Manipulación\n",
    "  - Destrucción\n",
    "\n",
    "- Ventajas:\n",
    "  - Descomposición\n",
    "  - Abstracción\n",
    "  - Encapsulación: Esconder ciertos datos que no son importantes y manejarlos internamente"
   ]
  },
  {
   "cell_type": "markdown",
   "metadata": {},
   "source": [
    "\n",
    "``` \n",
    "# Definición de una clase\n",
    " \n",
    " class <nombre_de_la_clase>(<super_clase>):\n",
    "\n",
    "    #Esto se conoce como el constructor, el primer parametro comienza siempre por self \n",
    "    def __init__(self, <params>) :\n",
    "        <expression> \n",
    "    \n",
    "    def <nombre_del_metodo>(self, <params>):\n",
    "        <expression>\n",
    "```"
   ]
  },
  {
   "cell_type": "code",
   "execution_count": 3,
   "metadata": {},
   "outputs": [
    {
     "name": "stdout",
     "output_type": "stream",
     "text": [
      "Hola Juanita me llamo Víctor\n"
     ]
    }
   ],
   "source": [
    "# Ejemplo \n",
    "\n",
    "class Personas ():\n",
    "    def __init__(self, nombre, edad):\n",
    "        self.nombre = nombre\n",
    "        self.edad = edad\n",
    "    \n",
    "    def saludar(self, otra_persona):\n",
    "        print (f\"Hola {otra_persona} me llamo {self.nombre}\")\n",
    "\n",
    "david = Personas(\"Víctor\", 22)\n",
    "\n",
    "david.saludar('Juanita')\n"
   ]
  },
  {
   "cell_type": "markdown",
   "metadata": {},
   "source": [
    "## Instancias\n",
    "- Mientras que la clase es un molde, a los objetos creados se les conoce como instancias. Por ejemplo, la el molde para hacer botellas es la clase, y cada botella fabricada es una instancia de esa clase. Eso sí, las instancias pueden tener atributos distintos, pueden haber azules, rojas etc pero el molde sigue siendo el mismo. Las clases son donde se generan todas estas instancias. \n",
    "- Cuando se crea una instancia, se ejecuta el método ```__init__```\n",
    "- Todos los métodos de una clase reciben implícitamente como primer parámetro self.\n",
    "- Los atributos de clase nos permiten hacer varias cosas:\n",
    "  - Representar datos.\n",
    "  - Procedimientos para interactuar con los mismos (métodos)\n",
    "  - Mecanismos para esconder la representación interna. \n",
    "- Se accede a los atributos con la notación de punto. \n",
    "- Puede tener atributos privados. Por convención comienzan con ```_```"
   ]
  },
  {
   "cell_type": "code",
   "execution_count": 7,
   "metadata": {},
   "outputs": [
    {
     "name": "stdout",
     "output_type": "stream",
     "text": [
      "True\n"
     ]
    }
   ],
   "source": [
    "# Ejemplo Coordenas aplicando las instancias\n",
    "\n",
    "class Coordenada: \n",
    "\n",
    "    def __init__(self, x, y):\n",
    "        self.x = x\n",
    "        self.y = y\n",
    "    \n",
    "    def distancia (self, otra_coordenada): \n",
    "        x_diff = (self.x - otra_coordenada.x)**2\n",
    "        y_diff = (self.y - otra_coordenada.y)**2\n",
    "\n",
    "        return (x_diff - y_diff)**0.5\n",
    "\n",
    "coord1 = Coordenada(2, 1)\n",
    "coord2 = Coordenada(5, 6)\n",
    "\n",
    "#coord1.distancia(coord2)\n",
    "#Con el método isinstance se valida si la instancia es instancia de otra clase\n",
    "print(isinstance(coord1, Coordenada))\n"
   ]
  }
 ],
 "metadata": {
  "interpreter": {
   "hash": "f686fdc118ffc4aa3cfc49dea14bffa512884a21c608738156b0199a3b72a68c"
  },
  "kernelspec": {
   "display_name": "Python 3.8.8 64-bit ('base': conda)",
   "language": "python",
   "name": "python3"
  },
  "language_info": {
   "codemirror_mode": {
    "name": "ipython",
    "version": 3
   },
   "file_extension": ".py",
   "mimetype": "text/x-python",
   "name": "python",
   "nbconvert_exporter": "python",
   "pygments_lexer": "ipython3",
   "version": "3.8.8"
  },
  "orig_nbformat": 4
 },
 "nbformat": 4,
 "nbformat_minor": 2
}
