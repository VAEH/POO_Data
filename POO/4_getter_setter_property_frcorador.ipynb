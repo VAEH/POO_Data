{
 "cells": [
  {
   "cell_type": "markdown",
   "metadata": {},
   "source": [
    "# ENCAPSULACIÓN, GETTERS AND SETTERS\n",
    "\n",
    "- Permite agrupar datos y su comportamiento\n",
    "- Controla el acceso a dichos datos\n",
    "- Previene modificaciones no autorizadas\n",
    "\n"
   ]
  },
  {
   "cell_type": "code",
   "execution_count": 24,
   "metadata": {},
   "outputs": [
    {
     "name": "stdout",
     "output_type": "stream",
     "text": [
      "Empieza función setter *****************\n",
      "Asignamos el valor Pepe al atributo 'nombre'\n",
      "Empieza función setter *****************\n",
      "Asignamos el valor Juan al atributo 'nombre'\n",
      "Empieza función getter******************\n",
      "Pedimos atributo:\n",
      "Juan\n",
      "Eliminación del atributo **************************************\n",
      "Borramos atributo Juan\n",
      "Eliminación del atributo **************************************\n",
      "Error. No existe el atributo que desea borrar\n",
      "Empieza función getter******************\n",
      "Pedimos atributo:\n",
      "Error. No existe el atributo indicado\n",
      "None\n",
      "Empieza función setter *****************\n",
      "Asignamos el valor Elena al atributo 'nombre'\n",
      "Empieza función getter******************\n",
      "Pedimos atributo:\n",
      "Elena\n",
      "Help on property:\n",
      "\n",
      "    Mi información\n",
      "\n",
      "None\n"
     ]
    }
   ],
   "source": [
    "#Información sobre los decoradores\n",
    "\n",
    "class Persona:\n",
    "    def __init__(self, nombre):\n",
    "        self.set_nombre(nombre)\n",
    "    def get_nombre(self):\n",
    "        print('Empieza función getter******************')\n",
    "        try:\n",
    "            print(\"Pedimos atributo:\")\n",
    "            return self.__nombre\n",
    "        except AttributeError:\n",
    "            print(\"Error. No existe el atributo indicado\")\n",
    "        except:\n",
    "            print(\"Error al acceder al atributo\")\n",
    "    def set_nombre(self, nuevo_nombre):\n",
    "        print('Empieza función setter *****************')\n",
    "        print(\"Asignamos el valor\", nuevo_nombre,\"al atributo 'nombre'\")\n",
    "        self.__nombre = nuevo_nombre\n",
    "        return None\n",
    "    def del_nombre(self):\n",
    "        print('Eliminación del atributo **************************************')\n",
    "        try:\n",
    "            print(\"Borramos atributo\", self.__nombre)\n",
    "            del self.__nombre\n",
    "        except AttributeError:\n",
    "            print(\"Error. No existe el atributo que desea borrar\")\n",
    "        except:\n",
    "            print(\"Error al intentar borrar el atributo\")\n",
    "        return None\n",
    "    nombre = property(get_nombre, set_nombre, del_nombre, \"Mi información\")\n",
    "def main():\n",
    "    a = Persona(\"Pepe\")\n",
    "    a.nombre = \"Juan\"\n",
    "    print(a.nombre)\n",
    "    del a.nombre\n",
    "    del a.nombre\n",
    "    print(a.nombre)\n",
    "    a.nombre = \"Elena\"\n",
    "    print(a.nombre)\n",
    "    print(help(Persona.nombre))\n",
    "main()"
   ]
  },
  {
   "cell_type": "code",
   "execution_count": 63,
   "metadata": {},
   "outputs": [
    {
     "name": "stdout",
     "output_type": "stream",
     "text": [
      "<__main__.Validacion_extension_archivos object at 0x000001B45248ED60>\n"
     ]
    }
   ],
   "source": [
    "#Ejercicio de compresión del término\n",
    "import pandas as pd \n",
    "import numpy as np\n",
    "import fnmatch\n",
    "import os\n",
    "\n",
    "class Validacion_extension_archivos: \n",
    "    \n",
    "    def __init__(self, path):\n",
    "        self.archivo = path\n",
    "\n",
    "    @property\n",
    "    def devuelve_archivo(self):\n",
    "        print('Imprime get')\n",
    "        return self.archivo\n",
    "\n",
    "    @devuelve_archivo.setter\n",
    "    def validacion_extension(self, valor):\n",
    "        print('Imprime sett')\n",
    "        self.archivo = valor\n",
    "\n",
    "\n",
    "path = r'C:/Users/arman/Documents/1. Ingenieria de Datos/Data_engineer/POO/POO/insumos'\n",
    "\n",
    "prueba = Validacion_extension_archivos('hola')\n",
    "\n",
    "#prueba.validacion_extension = path\n",
    "#print(prueba.validacion_extension)\n",
    "\n"
   ]
  },
  {
   "cell_type": "code",
   "execution_count": null,
   "metadata": {},
   "outputs": [],
   "source": [
    "\"\"\"\n",
    "lista_archivo = []\n",
    "for archivo in os.listdir(path):\n",
    "    if fnmatch.fnmatch(archivo, '*.xlsx'):\n",
    "        lista_archivo.append(archivo)\n",
    "    \n",
    "    else:\n",
    "        pass\n",
    "    print(\"Metodo llamado\")\n",
    "    #print(lista_archivo)\n",
    "print(lista_archivo)\"\"\""
   ]
  },
  {
   "cell_type": "code",
   "execution_count": 19,
   "metadata": {},
   "outputs": [
    {
     "name": "stdout",
     "output_type": "stream",
     "text": [
      "***IMPRIME SETT ********\n",
      "******IMPRIME GETTTT****\n",
      "['data.xlsx', 'data_wenas20191101.xlsx', 'data_wenas20191201.xlsx', 'data_wenos20191201.xlsx']\n"
     ]
    },
    {
     "data": {
      "text/plain": [
       "'\\nlista_archivo = []\\nfor archivo in os.listdir(path):\\n    if fnmatch.fnmatch(archivo, \\'*.xlsx\\'):\\n        lista_archivo.append(archivo)\\n    \\n    else:\\n        pass\\n    print(\"Metodo llamado\")\\n    #print(lista_archivo)\\nprint(lista_archivo)'"
      ]
     },
     "execution_count": 19,
     "metadata": {},
     "output_type": "execute_result"
    }
   ],
   "source": [
    "#Ejercicio de compresión del término\n",
    "import pandas as pd \n",
    "import numpy as np\n",
    "import fnmatch\n",
    "import os\n",
    "\n",
    "class Validacion_extension_archivos: \n",
    "    \"\"\"La clase es utiliza para seleccionar varios archivos según su tipo de extensión y agregar los validos a una lsita para ser \n",
    "    posteriormente leido por otra clase o método\"\"\"\n",
    "    \n",
    "    def __init__(self):\n",
    "        pass\n",
    "\n",
    "    @property\n",
    "    def devuelve_archivo(self):\n",
    "        \"\"\"Método devuelve el listado con los archivos validos\"\"\"\n",
    "        print('******IMPRIME GETTTT****')\n",
    "        return self.archivo\n",
    "\n",
    "    @devuelve_archivo.setter\n",
    "    def validacion_extension(self, path_archivos):\n",
    "        \"\"\"Obtiene el path donde se encuentran los archivos, filtra la busqueda por el tipo de extension de interes ej.: .xlsx, .json, ,.csv o algún \n",
    "        otro tipo de extensión y aquellos que cumplan son agregados a una lista, de lo contario no retorna nada\"\"\"\n",
    "        print('***IMPRIME SETT ********')\n",
    "        lista_archivos = []\n",
    "        for archivo in os.listdir(path_archivos):\n",
    "            if fnmatch.fnmatch(archivo, '*.xlsx'):\n",
    "                lista_archivos.append(archivo)\n",
    "            else:\n",
    "                pass\n",
    "            #print(lista_archivo)\n",
    "        self.archivo = lista_archivos\n",
    "\n",
    "\n",
    "path = r'C:/Users/arman/Documents/1. Ingenieria de Datos/Data_engineer/POO/POO/insumos'\n",
    "\n",
    "prueba = Validacion_extension_archivos()\n",
    "prueba.validacion_extension = path\n",
    "print(prueba.validacion_extension)\n",
    "\n",
    "\"\"\"\n",
    "lista_archivo = []\n",
    "for archivo in os.listdir(path):\n",
    "    if fnmatch.fnmatch(archivo, '*.xlsx'):\n",
    "        lista_archivo.append(archivo)\n",
    "    \n",
    "    else:\n",
    "        pass\n",
    "    print(\"Metodo llamado\")\n",
    "    #print(lista_archivo)\n",
    "print(lista_archivo)\"\"\""
   ]
  },
  {
   "cell_type": "code",
   "execution_count": 43,
   "metadata": {},
   "outputs": [
    {
     "name": "stdout",
     "output_type": "stream",
     "text": [
      "***IMPRIME SETT ********\n"
     ]
    },
    {
     "ename": "ValueError",
     "evalue": "No hay archivos que cumplan con el tipo de extensión mencionada",
     "output_type": "error",
     "traceback": [
      "\u001b[1;31m---------------------------------------------------------------------------\u001b[0m",
      "\u001b[1;31mValueError\u001b[0m                                Traceback (most recent call last)",
      "\u001b[1;32m<ipython-input-43-6c1dde9fd6a2>\u001b[0m in \u001b[0;36m<module>\u001b[1;34m\u001b[0m\n\u001b[0;32m     41\u001b[0m \u001b[0mpath\u001b[0m \u001b[1;33m=\u001b[0m \u001b[1;34mr'C:/Users/arman/Documents/1. Ingenieria de Datos/Data_engineer/POO/POO/insumos'\u001b[0m\u001b[1;33m\u001b[0m\u001b[1;33m\u001b[0m\u001b[0m\n\u001b[0;32m     42\u001b[0m \u001b[1;33m\u001b[0m\u001b[0m\n\u001b[1;32m---> 43\u001b[1;33m \u001b[0mprueba\u001b[0m \u001b[1;33m=\u001b[0m \u001b[0mValidacion_extension_archivos\u001b[0m\u001b[1;33m(\u001b[0m\u001b[0mpath\u001b[0m\u001b[1;33m)\u001b[0m\u001b[1;33m\u001b[0m\u001b[1;33m\u001b[0m\u001b[0m\n\u001b[0m\u001b[0;32m     44\u001b[0m \u001b[1;31m#prueba.validacion_extension = path\u001b[0m\u001b[1;33m\u001b[0m\u001b[1;33m\u001b[0m\u001b[1;33m\u001b[0m\u001b[0m\n\u001b[0;32m     45\u001b[0m \u001b[1;31m#print(prueba.validacion_extension)\u001b[0m\u001b[1;33m\u001b[0m\u001b[1;33m\u001b[0m\u001b[1;33m\u001b[0m\u001b[0m\n",
      "\u001b[1;32m<ipython-input-43-6c1dde9fd6a2>\u001b[0m in \u001b[0;36m__init__\u001b[1;34m(self, path)\u001b[0m\n\u001b[0;32m     10\u001b[0m \u001b[1;33m\u001b[0m\u001b[0m\n\u001b[0;32m     11\u001b[0m     \u001b[1;32mdef\u001b[0m \u001b[0m__init__\u001b[0m\u001b[1;33m(\u001b[0m\u001b[0mself\u001b[0m\u001b[1;33m,\u001b[0m \u001b[0mpath\u001b[0m\u001b[1;33m)\u001b[0m\u001b[1;33m:\u001b[0m\u001b[1;33m\u001b[0m\u001b[1;33m\u001b[0m\u001b[0m\n\u001b[1;32m---> 12\u001b[1;33m         \u001b[0mself\u001b[0m\u001b[1;33m.\u001b[0m\u001b[0mdevuelve_archivo\u001b[0m \u001b[1;33m=\u001b[0m \u001b[0mpath\u001b[0m\u001b[1;33m\u001b[0m\u001b[1;33m\u001b[0m\u001b[0m\n\u001b[0m\u001b[0;32m     13\u001b[0m \u001b[1;33m\u001b[0m\u001b[0m\n\u001b[0;32m     14\u001b[0m \u001b[1;33m\u001b[0m\u001b[0m\n",
      "\u001b[1;32m<ipython-input-43-6c1dde9fd6a2>\u001b[0m in \u001b[0;36mdevuelve_archivo\u001b[1;34m(self, value)\u001b[0m\n\u001b[0;32m     33\u001b[0m \u001b[1;33m\u001b[0m\u001b[0m\n\u001b[0;32m     34\u001b[0m         \u001b[1;32mif\u001b[0m \u001b[0mlen\u001b[0m\u001b[1;33m(\u001b[0m\u001b[0mlista_archivos\u001b[0m\u001b[1;33m)\u001b[0m \u001b[1;33m==\u001b[0m\u001b[1;36m0\u001b[0m\u001b[1;33m:\u001b[0m\u001b[1;33m\u001b[0m\u001b[1;33m\u001b[0m\u001b[0m\n\u001b[1;32m---> 35\u001b[1;33m             \u001b[1;32mraise\u001b[0m \u001b[0mValueError\u001b[0m\u001b[1;33m(\u001b[0m\u001b[1;34m\"No hay archivos que cumplan con el tipo de extensión mencionada\"\u001b[0m\u001b[1;33m)\u001b[0m\u001b[1;33m\u001b[0m\u001b[1;33m\u001b[0m\u001b[0m\n\u001b[0m\u001b[0;32m     36\u001b[0m         \u001b[1;32melse\u001b[0m\u001b[1;33m:\u001b[0m\u001b[1;33m\u001b[0m\u001b[1;33m\u001b[0m\u001b[0m\n\u001b[0;32m     37\u001b[0m             \u001b[0mself\u001b[0m\u001b[1;33m.\u001b[0m\u001b[0marchivo\u001b[0m \u001b[1;33m=\u001b[0m \u001b[0mlista_archivos\u001b[0m\u001b[1;33m\u001b[0m\u001b[1;33m\u001b[0m\u001b[0m\n",
      "\u001b[1;31mValueError\u001b[0m: No hay archivos que cumplan con el tipo de extensión mencionada"
     ]
    }
   ],
   "source": [
    "#Otra forma más limpia\n",
    "import pandas as pd \n",
    "import numpy as np\n",
    "import fnmatch\n",
    "import os\n",
    "\n",
    "class Validacion_extension_archivos: \n",
    "    \"\"\"La clase es utiliza para seleccionar varios archivos según su tipo de extensión y agregar los validos a una lsita para ser \n",
    "    posteriormente leido por otra clase o método\"\"\"\n",
    "    \n",
    "    def __init__(self, path):\n",
    "        \"\"\"Obtiene el path (ruta) donde se encuentrán los archivos\"\"\"\n",
    "        self.devuelve_archivo = path\n",
    "\n",
    "\n",
    "    @property\n",
    "    def devuelve_archivo(self):\n",
    "        \"\"\"Método devuelve el listado con los archivos validos\"\"\"\n",
    "        print('******IMPRIME GETTTT****')\n",
    "        return self.archivo\n",
    "\n",
    "    @devuelve_archivo.setter\n",
    "    def devuelve_archivo(self, value):\n",
    "        \"\"\"Obtiene el path donde se encuentran los archivos, filtra la busqueda por el tipo de extension de interes ej.: .xlsx, .json, ,.csv o algún \n",
    "        otro tipo de extensión y aquellos que cumplan son agregados a una lista, de lo contario no retorna nada\"\"\"\n",
    "        print('***IMPRIME SETT ********')\n",
    "        lista_archivos = []\n",
    "        for archivo in os.listdir(value):\n",
    "            if fnmatch.fnmatch(archivo, '*.xls'):\n",
    "                lista_archivos.append(archivo)\n",
    "            else:\n",
    "                pass\n",
    "                #raise ValueError (\"Error al momento de llamar el archivo\")\n",
    "\n",
    "        if len(lista_archivos) ==0:\n",
    "            raise ValueError(\"No hay archivos que cumplan con el tipo de extensión mencionada\")\n",
    "        else: \n",
    "            self.archivo = lista_archivos\n",
    "    \n",
    "\n",
    "\n",
    "path = r'C:/Users/arman/Documents/1. Ingenieria de Datos/Data_engineer/POO/POO/insumos'\n",
    "\n",
    "prueba = Validacion_extension_archivos(path)\n",
    "#prueba.validacion_extension = path\n",
    "#print(prueba.validacion_extension)\n",
    "print(prueba.devuelve_archivo)\n"
   ]
  },
  {
   "cell_type": "code",
   "execution_count": 21,
   "metadata": {},
   "outputs": [
    {
     "ename": "ValueError",
     "evalue": "Name cannot exceed 20 characters.",
     "output_type": "error",
     "traceback": [
      "\u001b[1;31m---------------------------------------------------------------------------\u001b[0m",
      "\u001b[1;31mValueError\u001b[0m                                Traceback (most recent call last)",
      "\u001b[1;32m<ipython-input-21-8a8679023253>\u001b[0m in \u001b[0;36m<module>\u001b[1;34m\u001b[0m\n\u001b[0;32m     45\u001b[0m \u001b[1;31m#xiaoxu = Citizen(\"id1\", \"xiaoxu gao\", \"xiaoxu.gao@ing.com\", 27)\u001b[0m\u001b[1;33m\u001b[0m\u001b[1;33m\u001b[0m\u001b[1;33m\u001b[0m\u001b[0m\n\u001b[0;32m     46\u001b[0m \u001b[1;31m#print(xiaoxu)\u001b[0m\u001b[1;33m\u001b[0m\u001b[1;33m\u001b[0m\u001b[1;33m\u001b[0m\u001b[0m\n\u001b[1;32m---> 47\u001b[1;33m \u001b[0mxiaoxu\u001b[0m \u001b[1;33m=\u001b[0m \u001b[0mCitizen\u001b[0m\u001b[1;33m(\u001b[0m\u001b[1;34m\"id1\"\u001b[0m\u001b[1;33m,\u001b[0m \u001b[1;34m\"xiaoxu1234567890123456789\"\u001b[0m\u001b[1;33m,\u001b[0m \u001b[1;34m\"highsmallxu@gmail.com\"\u001b[0m\u001b[1;33m,\u001b[0m \u001b[1;36m27\u001b[0m\u001b[1;33m)\u001b[0m\u001b[1;33m\u001b[0m\u001b[1;33m\u001b[0m\u001b[0m\n\u001b[0m\u001b[0;32m     48\u001b[0m \u001b[1;31m# ValueError: Name cannot exceed 20 characters.\u001b[0m\u001b[1;33m\u001b[0m\u001b[1;33m\u001b[0m\u001b[1;33m\u001b[0m\u001b[0m\n\u001b[0;32m     49\u001b[0m \u001b[1;31m#xiaoxu = Citizen(\"id1\", \"xiaoxu gao\", \"highsmallxu@gmail.c\", 27)\u001b[0m\u001b[1;33m\u001b[0m\u001b[1;33m\u001b[0m\u001b[1;33m\u001b[0m\u001b[0m\n",
      "\u001b[1;32m<ipython-input-21-8a8679023253>\u001b[0m in \u001b[0;36m__init__\u001b[1;34m(self, id, name, email, age)\u001b[0m\n\u001b[0;32m      4\u001b[0m     \u001b[1;32mdef\u001b[0m \u001b[0m__init__\u001b[0m\u001b[1;33m(\u001b[0m\u001b[0mself\u001b[0m\u001b[1;33m,\u001b[0m \u001b[0mid\u001b[0m\u001b[1;33m,\u001b[0m \u001b[0mname\u001b[0m\u001b[1;33m,\u001b[0m \u001b[0memail\u001b[0m\u001b[1;33m,\u001b[0m \u001b[0mage\u001b[0m\u001b[1;33m)\u001b[0m\u001b[1;33m:\u001b[0m\u001b[1;33m\u001b[0m\u001b[1;33m\u001b[0m\u001b[0m\n\u001b[0;32m      5\u001b[0m         \u001b[0mself\u001b[0m\u001b[1;33m.\u001b[0m\u001b[0m_id\u001b[0m \u001b[1;33m=\u001b[0m \u001b[0mid\u001b[0m\u001b[1;33m\u001b[0m\u001b[1;33m\u001b[0m\u001b[0m\n\u001b[1;32m----> 6\u001b[1;33m         \u001b[0mself\u001b[0m\u001b[1;33m.\u001b[0m\u001b[0mname\u001b[0m \u001b[1;33m=\u001b[0m \u001b[0mname\u001b[0m\u001b[1;33m\u001b[0m\u001b[1;33m\u001b[0m\u001b[0m\n\u001b[0m\u001b[0;32m      7\u001b[0m         \u001b[0mself\u001b[0m\u001b[1;33m.\u001b[0m\u001b[0memail\u001b[0m \u001b[1;33m=\u001b[0m \u001b[0memail\u001b[0m\u001b[1;33m\u001b[0m\u001b[1;33m\u001b[0m\u001b[0m\n\u001b[0;32m      8\u001b[0m         \u001b[0mself\u001b[0m\u001b[1;33m.\u001b[0m\u001b[0mage\u001b[0m \u001b[1;33m=\u001b[0m \u001b[0mage\u001b[0m\u001b[1;33m\u001b[0m\u001b[1;33m\u001b[0m\u001b[0m\n",
      "\u001b[1;32m<ipython-input-21-8a8679023253>\u001b[0m in \u001b[0;36mname\u001b[1;34m(self, value)\u001b[0m\n\u001b[0;32m     19\u001b[0m     \u001b[1;32mdef\u001b[0m \u001b[0mname\u001b[0m\u001b[1;33m(\u001b[0m\u001b[0mself\u001b[0m\u001b[1;33m,\u001b[0m \u001b[0mvalue\u001b[0m\u001b[1;33m)\u001b[0m\u001b[1;33m:\u001b[0m\u001b[1;33m\u001b[0m\u001b[1;33m\u001b[0m\u001b[0m\n\u001b[0;32m     20\u001b[0m         \u001b[1;32mif\u001b[0m \u001b[0mlen\u001b[0m\u001b[1;33m(\u001b[0m\u001b[0mvalue\u001b[0m\u001b[1;33m)\u001b[0m \u001b[1;33m>\u001b[0m \u001b[1;36m20\u001b[0m\u001b[1;33m:\u001b[0m\u001b[1;33m\u001b[0m\u001b[1;33m\u001b[0m\u001b[0m\n\u001b[1;32m---> 21\u001b[1;33m             \u001b[1;32mraise\u001b[0m \u001b[0mValueError\u001b[0m\u001b[1;33m(\u001b[0m\u001b[1;34m\"Name cannot exceed 20 characters.\"\u001b[0m\u001b[1;33m)\u001b[0m\u001b[1;33m\u001b[0m\u001b[1;33m\u001b[0m\u001b[0m\n\u001b[0m\u001b[0;32m     22\u001b[0m         \u001b[0mself\u001b[0m\u001b[1;33m.\u001b[0m\u001b[0m_name\u001b[0m \u001b[1;33m=\u001b[0m \u001b[0mvalue\u001b[0m\u001b[1;33m\u001b[0m\u001b[1;33m\u001b[0m\u001b[0m\n\u001b[0;32m     23\u001b[0m \u001b[1;33m\u001b[0m\u001b[0m\n",
      "\u001b[1;31mValueError\u001b[0m: Name cannot exceed 20 characters."
     ]
    }
   ],
   "source": [
    "import re\n",
    "\n",
    "class Citizen:\n",
    "    def __init__(self, id, name, email, age):\n",
    "        self._id = id\n",
    "        self.name = name\n",
    "        self.email = email\n",
    "        self.age = age\n",
    "\n",
    "    @property\n",
    "    def id(self):\n",
    "        return self._id\n",
    "\n",
    "    @property\n",
    "    def name(self):\n",
    "        return self._name\n",
    "\n",
    "    @name.setter\n",
    "    def name(self, value):\n",
    "        if len(value) > 20:\n",
    "            raise ValueError(\"Name cannot exceed 20 characters.\")\n",
    "        self._name = value\n",
    "\n",
    "    @property\n",
    "    def email(self):\n",
    "        return self._email\n",
    "\n",
    "    @email.setter\n",
    "    def email(self, value):\n",
    "        regex = \"^[a-z0-9]+[\\._]?[a-z0-9]+[@]\\w+[.]\\w{2,3}$\"\n",
    "        if not re.match(regex, value):\n",
    "            raise ValueError(\"It's not an email address.\")\n",
    "        self._email = value\n",
    "\n",
    "    @property\n",
    "    def age(self):\n",
    "        return self._age\n",
    "\n",
    "    @age.setter\n",
    "    def age(self, value):\n",
    "        if value < 0:\n",
    "            raise ValueError(\"Age cannot be negative.\")\n",
    "        self._age = value\n",
    "\n",
    "#xiaoxu = Citizen(\"id1\", \"xiaoxu gao\", \"xiaoxu.gao@ing.com\", 27)\n",
    "#print(xiaoxu)\n",
    "xiaoxu = Citizen(\"id1\", \"xiaoxu1234567890123456789\", \"highsmallxu@gmail.com\", 27)\n",
    "# ValueError: Name cannot exceed 20 characters.\n",
    "#xiaoxu = Citizen(\"id1\", \"xiaoxu gao\", \"highsmallxu@gmail.c\", 27)\n",
    "# ValueError: It's not an email address.\n",
    "#xiaoxu = Citizen(\"id1\", \"xiaoxu gao\", \"highsmallxu@gmail.com\", -27)"
   ]
  }
 ],
 "metadata": {
  "interpreter": {
   "hash": "f686fdc118ffc4aa3cfc49dea14bffa512884a21c608738156b0199a3b72a68c"
  },
  "kernelspec": {
   "display_name": "Python 3.8.8 64-bit ('base': conda)",
   "language": "python",
   "name": "python3"
  },
  "language_info": {
   "codemirror_mode": {
    "name": "ipython",
    "version": 3
   },
   "file_extension": ".py",
   "mimetype": "text/x-python",
   "name": "python",
   "nbconvert_exporter": "python",
   "pygments_lexer": "ipython3",
   "version": "3.8.8"
  },
  "orig_nbformat": 4
 },
 "nbformat": 4,
 "nbformat_minor": 2
}
