{
 "cells": [
  {
   "cell_type": "markdown",
   "metadata": {},
   "source": [
    "# Herencia\n",
    "\n",
    "- Permite modelar una jerarquia de objetos\n",
    "- Permite compartir comportamiento común en la jerarquía \n",
    "- Al padre se le conoce como superclase y al hijo como subclase\n",
    "\n",
    "\n",
    "  - Herencia -> Copy and paste\n",
    "  - Polimorfimso -> Edit, copy and paste "
   ]
  },
  {
   "cell_type": "code",
   "execution_count": 3,
   "metadata": {},
   "outputs": [
    {
     "name": "stdout",
     "output_type": "stream",
     "text": [
      "12\n",
      "25\n"
     ]
    }
   ],
   "source": [
    "class Rectangulo():\n",
    "    \"\"\"La clase contiene dos atributos: base y altura, con lo que luego en un método calcula el area\n",
    "        Esta clase es una clase Padre o Superclase\"\"\"\n",
    "    def __init__(self, base, altura):\n",
    "        self.base=base\n",
    "        self.altura = altura \n",
    "\n",
    "    def area(self):\n",
    "        return self.base * self.altura\n",
    "\n",
    "class Cuadrado(Rectangulo):\n",
    "    \"\"\"Esta es una clase hija, que va a heredar los métodos y atributos de la clase Padre (Rectangulo), renombra los valores ya que para calcular\n",
    "    el area sería de forma igual (para este ejemplo en especifico). Se utiliza super() para tener una super referencia de la superclase\"\"\"\n",
    "    def __init__(self, lado):\n",
    "        super().__init__(lado, lado)\n",
    "\n",
    "\n",
    "if __name__ =='__main__':\n",
    "    \"\"\"Instanciamos las clases y le damos sus correspodiente valores\"\"\"\n",
    "    rectangulo = Rectangulo(base=3, altura=4)\n",
    "    print(rectangulo.area())\n",
    "\n",
    "    cuadrado = Cuadrado(lado=5)\n",
    "    print(cuadrado.area())"
   ]
  },
  {
   "cell_type": "markdown",
   "metadata": {},
   "source": [
    "# Polimorfismo\n",
    "\n",
    "- Habilidad de tomar varias formas\n",
    "- En python, nos permite cambiar el comportamiento de una superclase para adaptarlo a la subclase"
   ]
  },
  {
   "cell_type": "code",
   "execution_count": 6,
   "metadata": {},
   "outputs": [
    {
     "name": "stdout",
     "output_type": "stream",
     "text": [
      "Ando caminando\n",
      "Ando moviendome en mi bicicleta\n"
     ]
    }
   ],
   "source": [
    "class Persona:\n",
    "    \"\"\"Inicializamos los atributos nombre, y creamos una varibla eprivada que describe la función de la persona, en este caso \n",
    "    \"caminando\" e imprime la acción dentro de un método\"\"\"\n",
    "\n",
    "    def __init__(self, nombre):\n",
    "        self.nombre = nombre\n",
    "        self._action = 'Ando caminando'\n",
    "\n",
    "    def avanza(self):\n",
    "        print(f'{self._action}')\n",
    "\n",
    "\n",
    "class Ciclista(Persona):\n",
    "    \"\"\"Renombra el parametro nombre y cambia la acción de la clase padre \"Persona\" y llama a la función avanza de la clase padre\n",
    "    e imprime la nueva acción\"\"\"\n",
    "    def __init__(self, nombre):\n",
    "        super().__init__(nombre)\n",
    "        self._action = 'Ando moviendome en mi bicicleta'\n",
    "\n",
    "    def avanza(self):\n",
    "        super().avanza()\n",
    "\n",
    "#Ejemplo de polimorfismo\n",
    "def main():\n",
    "    persona = Persona('David')\n",
    "    persona.avanza()\n",
    "\n",
    "    #Con esta instancia muestra la forma en la que se aplica el polimorfismo, cambiando la acción, dandole un nuevo nombre y llamando a la función \n",
    "    ciclista = Ciclista('Daniel')\n",
    "    ciclista.avanza()\n",
    "\n",
    "\n",
    "if __name__ == '__main__':\n",
    "    main()\n"
   ]
  }
 ],
 "metadata": {
  "interpreter": {
   "hash": "f686fdc118ffc4aa3cfc49dea14bffa512884a21c608738156b0199a3b72a68c"
  },
  "kernelspec": {
   "display_name": "Python 3.8.8 ('base')",
   "language": "python",
   "name": "python3"
  },
  "language_info": {
   "codemirror_mode": {
    "name": "ipython",
    "version": 3
   },
   "file_extension": ".py",
   "mimetype": "text/x-python",
   "name": "python",
   "nbconvert_exporter": "python",
   "pygments_lexer": "ipython3",
   "version": "3.8.8"
  },
  "orig_nbformat": 4
 },
 "nbformat": 4,
 "nbformat_minor": 2
}
