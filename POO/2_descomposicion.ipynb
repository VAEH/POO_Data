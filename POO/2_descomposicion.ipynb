{
 "cells": [
  {
   "cell_type": "markdown",
   "metadata": {},
   "source": [
    "# Descomposición \n",
    "\n",
    "- Partir un problema en problemas más pequeños.\n",
    "- Las clases permiten crear mayores abstracciones en forma de componentes. \n",
    "- Cada clase se encarga de una parte del problema y el programa se vuelve más fácil de mantener. "
   ]
  },
  {
   "cell_type": "code",
   "execution_count": 2,
   "metadata": {},
   "outputs": [],
   "source": [
    "# Modelar un automovíl  ejemplo de descomposición\n",
    "\n",
    "class Automovil: \n",
    "\n",
    "    def __init__(self, modelo, marca, color):\n",
    "        self.modelo = modelo\n",
    "        self.marca=marca\n",
    "        self.color=color\n",
    "        self._estado= 'en_reposo'\n",
    "        self._motor = Motor(cilindro=4) \n",
    "        self._luces = Luces(luz='apagada')\n",
    "\n",
    "    def acelerar(self, tipo='despacio'):\n",
    "        if tipo=='rapida':\n",
    "            self._motor.inyecta_gasolina(10)\n",
    "        else:\n",
    "            self._motor.inyecta_gasolina(3)\n",
    "        self._estado= 'en_movimiento'\n",
    "    \n",
    "     \n",
    "\n",
    "class Motor: \n",
    "    \n",
    "    def __init__(self, cilindro, tipo='gasolina'):\n",
    "        self.cilindro= cilindro\n",
    "        self.tipo=tipo\n",
    "        self._temperatura = 0\n",
    "    \n",
    "    def inyecta_gasolina(self, cantidad):\n",
    "        pass \n",
    "\n",
    "class Luces: \n",
    "    def __init__(self, luz ='apagada'):\n",
    "        self.luz=luz\n",
    "\n",
    "    def encender(self, estado):\n",
    "        pass \n",
    "\n",
    "        "
   ]
  }
 ],
 "metadata": {
  "interpreter": {
   "hash": "f686fdc118ffc4aa3cfc49dea14bffa512884a21c608738156b0199a3b72a68c"
  },
  "kernelspec": {
   "display_name": "Python 3.8.8 64-bit ('base': conda)",
   "language": "python",
   "name": "python3"
  },
  "language_info": {
   "codemirror_mode": {
    "name": "ipython",
    "version": 3
   },
   "file_extension": ".py",
   "mimetype": "text/x-python",
   "name": "python",
   "nbconvert_exporter": "python",
   "pygments_lexer": "ipython3",
   "version": "3.8.8"
  },
  "orig_nbformat": 4
 },
 "nbformat": 4,
 "nbformat_minor": 2
}
