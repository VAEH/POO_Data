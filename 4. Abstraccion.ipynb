{
 "cells": [
  {
   "cell_type": "markdown",
   "metadata": {},
   "source": [
    "# Abstracción\n",
    "\n",
    "- Enfocarnos en la información relevante.\n",
    "- Separa la información central de los detalles secundarios.\n",
    "- Podemos utilizar variables y métodos (privados o públicos).  \n",
    "\n",
    "Ejemplo: \n",
    "En un ascensor, no nos preocupamos de como funciona, solo seleccionamos el piso al cual nos estamos dirigiendo pero sin tener en cuenta como es el funcionamiento interno del ascensor. Esto sería un ejemplo de abstracción. \n",
    "\n",
    "Nos permite ver directamente un objeto, entender como funciona y nosotros directamente implementar los métodos que van hacer que esta lavadora funcione, porque al final del día va a funcionar con un microcontrolador, con un proceso interno. \n",
    "\n"
   ]
  },
  {
   "cell_type": "code",
   "execution_count": 1,
   "metadata": {},
   "outputs": [
    {
     "name": "stdout",
     "output_type": "stream",
     "text": [
      "Llenando de agua fria\n",
      "Agregando jabon\n",
      "Lavando ropa\n",
      "Centrifugando\n"
     ]
    }
   ],
   "source": [
    "#Ejemplo lavadora \n",
    "\n",
    "class Lavadora: \n",
    "\n",
    "    def __init__(self):\n",
    "        pass\n",
    "\n",
    "    def lavar(self, temperatura='fria'):\n",
    "        self._llenar_tanque_agua(temperatura)\n",
    "        self._agregar_jabon()\n",
    "        self._lavar()\n",
    "        self._centrifugar ()\n",
    "\n",
    "    def _llenar_tanque_agua(self,temperatura):\n",
    "        print(f'Llenando de agua {temperatura}')\n",
    "\n",
    "    def _agregar_jabon(self):\n",
    "        print(f'Agregando jabon')\n",
    "    \n",
    "    def _lavar(self):\n",
    "        print(f'Lavando ropa')\n",
    "    \n",
    "    def _centrifugar(self):\n",
    "        print('Centrifugando')\n",
    "\n",
    "if __name__ =='__main__':\n",
    "    lavadora = Lavadora()\n",
    "    lavadora.lavar()"
   ]
  },
  {
   "cell_type": "markdown",
   "metadata": {},
   "source": [
    "## Revisando otros ejemplos de abstracción"
   ]
  },
  {
   "cell_type": "code",
   "execution_count": 18,
   "metadata": {},
   "outputs": [
    {
     "name": "stdout",
     "output_type": "stream",
     "text": [
      "Añadiendo vaso\n"
     ]
    }
   ],
   "source": [
    "class MaquinaCafe: \n",
    "\n",
    "    def __init__(self):\n",
    "        pass\n",
    "\n",
    "    def darCafe(self, vaso='si'):\n",
    "        if vaso =='no':\n",
    "            self._darvaso()\n",
    "        else: \n",
    "            self._anadir_cafe()\n",
    "            self._anadir_azucar()\n",
    "            self._anadir_agua()\n",
    "            self._servircafe()\n",
    "    def _darvaso(self):\n",
    "        print('Añadiendo vaso')\n",
    "    \n",
    "    def _anadir_cafe(self):\n",
    "        print('Añadiendo café')\n",
    "    \n",
    "    def _anadir_azucar(self):\n",
    "        print('Añadiendo Azucar :D')\n",
    "    \n",
    "    def _anadir_agua(self):\n",
    "        print('Añadiendo agua')\n",
    "\n",
    "    def _servircafe(self):\n",
    "        print('Ya puede retirar la bebida')\n",
    "\n",
    "if __name__ =='__main__':\n",
    "    cafe= MaquinaCafe()\n",
    "    cafe.darCafe('no')\n"
   ]
  }
 ],
 "metadata": {
  "interpreter": {
   "hash": "f686fdc118ffc4aa3cfc49dea14bffa512884a21c608738156b0199a3b72a68c"
  },
  "kernelspec": {
   "display_name": "Python 3.8.8 64-bit ('base': conda)",
   "name": "python3"
  },
  "language_info": {
   "codemirror_mode": {
    "name": "ipython",
    "version": 3
   },
   "file_extension": ".py",
   "mimetype": "text/x-python",
   "name": "python",
   "nbconvert_exporter": "python",
   "pygments_lexer": "ipython3",
   "version": "3.8.8"
  },
  "orig_nbformat": 4
 },
 "nbformat": 4,
 "nbformat_minor": 2
}
