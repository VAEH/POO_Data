{
 "cells": [
  {
   "cell_type": "markdown",
   "metadata": {},
   "source": [
    "# Tipos de datos abstractos y clases, Instancias\n",
    "\n",
    "En python todo es un objeto y tiene un tipo.\n",
    "- Representación de datos y formas de interactuar con ellos.\n",
    "\n",
    "Formas de interactuar con un objeto:\n",
    "- Creación\n",
    "- Manipulación\n",
    "- Destrucción.\n",
    "\n",
    "Ventajas:\n",
    "- Descomposición\n",
    "- Abstracción:\n",
    "- Encapsulación: Podemos esconder ciertos datos que no son importantes para las personas que no lo están utilizando o que no son relevantes para ellos y simplemente podemos marcarlos internamente. \n",
    "\n"
   ]
  },
  {
   "cell_type": "code",
   "execution_count": null,
   "metadata": {},
   "outputs": [],
   "source": [
    "#Definición de una clase (Estructura)\n",
    "\n",
    "#En algunas ocasiones podemos referirnos a una super clase\n",
    "class <nombre_de_la_clase>(<super_clase>):\n",
    "    \n",
    "    #Utilizamos el método __init__ \n",
    "    #Siempre debe ir self\n",
    "    def __init__(self, <params>):\n",
    "        <expresion>\n",
    "    \n",
    "    def <nombre_del_metodo>(self, <params>):\n",
    "        <expresion>"
   ]
  },
  {
   "cell_type": "markdown",
   "metadata": {},
   "source": [
    "## Ejemplo"
   ]
  },
  {
   "cell_type": "code",
   "execution_count": 1,
   "metadata": {},
   "outputs": [
    {
     "data": {
      "text/plain": [
       "'Hola Erika, me llamo David.'"
      ]
     },
     "execution_count": 1,
     "metadata": {},
     "output_type": "execute_result"
    }
   ],
   "source": [
    "#Definición\n",
    "class Persona:\n",
    "    def __init__(self, nombre,edad):\n",
    "        #self hace una referencia a esa misma clase \n",
    "        self.nombre = nombre\n",
    "        self.edad = edad\n",
    "    #Cinstrucción del Método saludar\n",
    "    def saludar(self, otra_persona):\n",
    "        return f\"Hola {otra_persona.nombre}, me llamo {self.nombre}.\"\n",
    "\n",
    "#Uso\n",
    "#Iniciamos una instancia de una persona llamada david y otra llamada Erika \n",
    "david = Persona('David', 35)\n",
    "erika = Persona('Erika', 32)\n",
    "#Aquí logramos ejecutar el método que utiliza la instancia que pasamos\n",
    "david.saludar(erika)"
   ]
  },
  {
   "cell_type": "markdown",
   "metadata": {},
   "source": [
    "## Instancias\n",
    "\n",
    "- Mientras que la clase es un Molde, a los objetos se les conoce como instancias.\n",
    "- Cuando se crea una instancia, se ejecuta el método __init__\n",
    "- Todos los métodos de una clase reciben implicitamente como primer parámetro self \n",
    "- Los atributos de clase nos permiten:\n",
    "    - Representar datos\n",
    "    - Procedimientos para interactuar con los mismos métodos\n",
    "    - Mecanismos para esconder la representación interna\n",
    "- Se accede a los atributos con la notación punto. \n",
    "- Puede tener atributos privados. Por conveción comienza con _"
   ]
  },
  {
   "cell_type": "markdown",
   "metadata": {},
   "source": [
    "## Ejemplos N°2"
   ]
  },
  {
   "cell_type": "code",
   "execution_count": 7,
   "metadata": {},
   "outputs": [
    {
     "name": "stdout",
     "output_type": "stream",
     "text": [
      "22.02271554554524\n",
      "True\n"
     ]
    }
   ],
   "source": [
    "#Tenemos un molde llamada coordenada\n",
    "class Coordenada:\n",
    "\n",
    "    def __init__(self,x,y) :\n",
    "        self.x = x\n",
    "        self.y =y\n",
    "\n",
    "    def distancia(self, otra_coordenada):\n",
    "        x_diff = (self.x - otra_coordenada.x)**2\n",
    "        y_diff = (self.y -otra_coordenada.y)**2\n",
    "\n",
    "        return (x_diff + y_diff)**0.5\n",
    "\n",
    "#Estamos diciendo que si este archivo se ejecuta directamente en la terminal nosotros lo podemos correr\n",
    "if __name__ == '__main__':\n",
    "    #Generamos una instancia de la primer coordenada\n",
    "    cood_1= Coordenada(3,30)\n",
    "    #Podemos generar varias instancias\n",
    "    cood_2 = Coordenada(4,8)\n",
    "\n",
    "    #Podemos ejecutar directamente los métodos que definimos dentro de esa clase\n",
    "    print(cood_1.distancia(cood_2))\n",
    "    \n",
    "    #Nos permite determinar si alguna de las coordenadase es instancia de Coordenada\n",
    "    print(isinstance(cood_2, Coordenada))"
   ]
  },
  {
   "cell_type": "code",
   "execution_count": 17,
   "metadata": {},
   "outputs": [
    {
     "name": "stdout",
     "output_type": "stream",
     "text": [
      "Jodidos\n"
     ]
    }
   ],
   "source": [
    "#Auto prueba para ver si aprendi a manejar las clases (Al menos el concepto). \n",
    "#Registrar cuentca Bancaria y ver si corresponde a 11 digitos\n",
    "\n",
    "class Cuenta: \n",
    "\n",
    "    def __init__(self, num_cuenta) :\n",
    "        self.num_cuenta = num_cuenta\n",
    "\n",
    "    #Método que permite verificar si una cuenta tiene 11 digitos \n",
    "\n",
    "    def validacion_cta(self, cuenta):\n",
    "        total_num = len(str(self.num_cuenta))\n",
    "\n",
    "        if total_num ==11:\n",
    "            return f'La cuenta {self.num_cuenta} es correcta'\n",
    "        else:\n",
    "            return f'Jodidos'\n",
    "\n",
    "if __name__ == '__main__':\n",
    "    cuenta1= Cuenta(9115215347)\n",
    "\n",
    "    print(cuenta1.validacion_cta(cuenta1))\n"
   ]
  },
  {
   "cell_type": "code",
   "execution_count": null,
   "metadata": {},
   "outputs": [],
   "source": []
  }
 ],
 "metadata": {
  "interpreter": {
   "hash": "f686fdc118ffc4aa3cfc49dea14bffa512884a21c608738156b0199a3b72a68c"
  },
  "kernelspec": {
   "display_name": "Python 3.8.8 64-bit ('base': conda)",
   "name": "python3"
  },
  "language_info": {
   "codemirror_mode": {
    "name": "ipython",
    "version": 3
   },
   "file_extension": ".py",
   "mimetype": "text/x-python",
   "name": "python",
   "nbconvert_exporter": "python",
   "pygments_lexer": "ipython3",
   "version": "3.8.8"
  },
  "orig_nbformat": 4
 },
 "nbformat": 4,
 "nbformat_minor": 2
}
